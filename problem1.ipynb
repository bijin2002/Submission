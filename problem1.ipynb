{
  "nbformat": 4,
  "nbformat_minor": 0,
  "metadata": {
    "colab": {
      "provenance": []
    },
    "kernelspec": {
      "name": "python3",
      "display_name": "Python 3"
    },
    "language_info": {
      "name": "python"
    },
    "accelerator": "GPU"
  },
  "cells": [
    {
      "cell_type": "code",
      "execution_count": 1,
      "metadata": {
        "id": "rUGEvwtEUYuK"
      },
      "outputs": [],
      "source": [
        "\n",
        "import pandas as pd\n",
        "import numpy as np\n",
        "import requests\n",
        "import ast\n",
        "from bs4 import BeautifulSoup\n",
        "from time import sleep\n",
        "from random import randint"
      ]
    },
    {
      "cell_type": "code",
      "source": [
        "actor_name = []\n",
        "movie_name = []\n",
        "movie_list = []\n"
      ],
      "metadata": {
        "id": "1SwB7mF4Ud4E"
      },
      "execution_count": 2,
      "outputs": []
    },
    {
      "cell_type": "code",
      "source": [
        "def check():\n",
        "    pages = np.arange(1,11,1)\n",
        "    for page in pages:\n",
        "        page = requests.get(\"https://www.imdb.com/list/ls058011111/?sort=list_order,asc&mode=detail&page=\"+str(page))\n",
        "        soup = BeautifulSoup(page.text,'html.parser')\n",
        "        actor_data = soup.findAll('div',attrs ={'class':'lister-item mode-detail'} )\n",
        "        \n",
        "        for store in actor_data:\n",
        "            name = store.h3.a.text\n",
        "            name = name.rstrip(\"\\n\")\n",
        "            actor_name.append(name)\n",
        "   \n",
        "        for store in actor_data:\n",
        "            link_url = store.find_all(\"a\")[1][\"href\"]\n",
        "\n",
        "            a = str(\"https://www.imdb.com\")+link_url+str(\"?ref_=nmls_kf\")\n",
        "            movie_name.append(a)\n",
        "  \n",
        "    \n",
        "        data_combined = dict(zip(actor_name,movie_name))\n",
        "        movie_data = str(data_combined)\n",
        "        m_data = ast.literal_eval(movie_data)\n",
        "    return m_data"
      ],
      "metadata": {
        "id": "pdQvbq1KUi-K"
      },
      "execution_count": 11,
      "outputs": []
    },
    {
      "cell_type": "code",
      "source": [
        "def checkKey(dict, key):      \n",
        "    if key in dict:\n",
        "        movie_link = dict[key]\n",
        "        n = str(movie_link)\n",
        "        \n",
        "        #Using the link of actor's page to access the movie names and print \n",
        "        movie_data_1 =requests.get(str(movie_link)) \n",
        "        soup1 = BeautifulSoup(movie_data_1.text,\"html.parser\")\n",
        "        movie_data_1 = soup1.findAll('div',attrs={'class':['filmo-row odd','filmo-row even']})\n",
        "       \n",
        "        for store_1 in movie_data_1:\n",
        "            name_1 = store_1.b.a.text\n",
        "            name_1 = name_1.rstrip(\"\\n\")\n",
        "            movie_list.append(name_1)\n",
        "        print(movie_list)\n",
        "\n",
        "    else:\n",
        "        print(\"Actor not present in database\")\n"
      ],
      "metadata": {
        "id": "XyDShMxPUmXY"
      },
      "execution_count": 12,
      "outputs": []
    },
    {
      "cell_type": "code",
      "source": [
        "data_movies = check()        \n",
        "movie_list =[]\n",
        "name = input(\"Enter your actor name : \").title()\n",
        "name= \" \"+name\n",
        "checkKey(data_movies,name)"
      ],
      "metadata": {
        "colab": {
          "base_uri": "https://localhost:8080/"
        },
        "id": "vWPHuVMMU12D",
        "outputId": "8b4edc1c-36ce-4404-9b69-ac5d625d4ac5"
      },
      "execution_count": 13,
      "outputs": [
        {
          "output_type": "stream",
          "name": "stdout",
          "text": [
            "Enter your actor name : shah rukh khan\n",
            "['Pathaan', 'Dunki', 'Jawan', 'Brahmastra Part One: Shiva', 'Laal Singh Chaddha', 'Koochie Koochie Hota Hai', 'Sab Sahi Ho Jayega', 'The Forgotten Army - Azaadi ke liye', 'Marshmello & Pritam Feat. Shirley Setia & Shah Rukh Khan: BIBA', 'Zero', 'A. R. Rahman: Jai Hind India', 'Diplo & Pritam: Phurrr', 'Jab Harry Met Sejal', 'Tubelight', 'Raees', 'Dear Zindagi', 'Ae Dil Hai Mushkil', 'Fan', 'Bhaag Jeetu Bhaag', 'Dilwale', 'Happy New Year', 'Bhoothnath Returns', 'Chennai Express', 'Jab Tak Hai Jaan', 'Don 2', 'Ra.One', 'Always Kabhi Kabhi', 'My Name Is Khan', 'Phir Mile Sur', 'Dulha Mil Gaya', 'Aao Wish Karein', 'Billu', 'Rab Ne Bana Di Jodi', 'Kismat Konnection', 'Bhoothnath', 'Shaurya', 'Om Shanti Om', 'Heyy Babyy', \"Let's Go! India\", 'I See You', 'Don', 'Kabhi Alvida Naa Kehna', 'Different', 'Kar Le Kar Le Koi Dhamaal', 'Paheli', 'Silsiilay', 'Kaal', 'Swades', 'Veer-Zaara', 'Main Hoon Na', 'Yeh Lamhe Judaai Ke', 'Kal Ho Naa Ho', 'Chalte Chalte', 'Saathiya', 'Shakthi: The Power', 'Hum Tumhare Hain Sanam', 'Devdas', 'Kya Khoya Kya Paya', 'Kabhi Khushi Kabhie Gham...', 'Ashoka the Great', 'One 2 Ka 4', 'Gaja Gamini', 'Mohabbatein', 'Har Dil Jo Pyar Karega...', 'Josh', 'Hey Ram', 'Phir Bhi Dil Hai Hindustani', 'Baadshah', 'Kuch Kuch Hota Hai', 'Dil Se..', 'Duplicate', 'C.I.D.', 'Gudgudee', 'Pardes', 'Dil To Pagal Hai', 'Yes Boss', 'Koyla', 'Dushman Duniya Ka', 'Army', 'Chaahat', 'English Babu Desi Mem', 'Trimurti', 'Ram Jaane', 'Dilwale Dulhania Le Jayenge', 'Oh Darling Yeh Hai India', 'Guddu', 'Zamaana Deewana', 'Karan Arjun', 'Anjaam', 'Kabhi Haan Kabhi Naa', 'Darr', 'Baazigar', 'Maya', 'King Uncle', 'Raju Ban Gaya Gentleman', 'Dil Aashna Hai (...The Heart Knows)', 'Chamatkar', 'Deewana', 'Idiot', 'Mahaan Karz', 'Circus', 'Doosra Keval', 'In Which Annie Gives It Those Ones', 'Umeed', 'Adhuri Zindagi', 'Intezaar', 'Fauji', 'Wagle Ki Duniya', 'Dil Dariya', 'Jawan', \"Class of '83\", 'Betaal', 'Bard of Blood', 'Badla: Unplugged', 'Don 2', 'Ra.One', 'Ishaan', 'Ghar Ki Baat Hain', 'Rab Ne Bana Di Jodi', 'Om Shanti Om', 'Paheli', 'Kaal', 'Main Hoon Na', 'Chalte Chalte', 'Ashoka the Great', 'Phir Bhi Dil Hai Hindustani', 'Happy New Year', \"Shahrukh Bola 'Khoobsurat Hai Tu'... And She Believed in It\", \"Let's Go! India\", 'Don', 'Josh', 'Baadshah', 'Jab Tak Hai Jaan', 'So You Think You Can Dance', 'Shaurya', \"Let's Go! India\", 'Don', 'Mohabbatein', 'Baadshah', 'Main Hoon Na', 'Kuch Kuch Hota Hai', 'Ra.One', \"India's Most Wanted\", 'Ittefaq', 'Loev', 'Yeh Jawaani Hai Deewani', 'Love Breakups Zindagi', 'Urumi: The Warriors Who Wanted to Kill Vasco Da Gama', 'Walkaway', 'Enthiran', 'Aao Wish Karein', 'Luck by Chance', 'Krazzy 4', 'Shaurya', 'Heyy Babyy', 'Americanizing Shelley', 'Eklavya: The Royal Guard', 'Zindaggi Rocks', 'Kuchh Meetha Ho Jaye', 'My Karma', 'Saathiya', 'Har Dil Jo Pyar Karega...', 'Rocketry: The Nambi Effect', 'Hollywood Insider', 'The Masters of Cinema Awards', 'Indian Premier League', 'One World: Together at Home', '64th Filmfare Awards', 'TED Talks India Nayi Soch', 'My Next Guest Needs No Introduction with David Letterman', 'Fair & Handsome Brand Commercial: Badhte Raho Handsome Raho', 'Badla: Unplugged', 'Baba Ki Chowki', 'Star Truck', 'Bigg Boss', 'Titu Talks', 'Kasautii Zindagii Kay', '63rd Filmfare Awards', '62nd Filmfare Awards', 'Louder Together', 'Taarak Mehta Ka Ooltah Chashmah', 'Shahrukh Khan: Safar', 'AIB Video Podcast', 'Emirates News', 'The Kapil Sharma Show', 'Aap Ki Adalat', 'FC FaceTime', 'Koffee with Karan', 'I Feel Bollygood', 'Still Rolling: The DDLJ Story', 'Making of the Film: Fan', 'London Live News', '61st Filmfare Awards', 'India Poochega Sabse Shaana Kaun', 'Comedy Nights with Kapil', 'Kumkum Bhagya', 'The Android King: Sundar Pichai', 'Kaun Banega Crorepati?', 'Barely Speaking with Arnub', 'Making of the Film - Jab Tak Hai Jaan', 'Making of Bhoothnath Returns', '58th Filmfare Awards', 'Star Verdict', 'Diya Aur Baati Hum', '14th IIFA Awards', 'Bombay Talkies', \"L'invité\", 'Zee Cine Awards 2012', '57th Filmfare Awards', 'Diwali Rishton Ki Mithas', 'Love Breakups Zindagi', '12th International Indian Film Academy Awards', '56th Filmfare Awards', \"Shahrukh Bola 'Khoobsurat Hai Tu'... And She Believed in It\", '55th Idea Filmfare Awards', 'Friday Night with Jonathan Ross', 'Luck by Chance', 'Golden Globe Awards', 'Shah Rukh Khan: In Love with Germany', 'Kya Aap Paanchvi Pass Se Tez Hain?', 'Krazzy 4', '53rd Filmfare Awards', '52nd Filmfare Awards', 'Sunset Bollywood', 'Kuchh Meetha Ho Jaye', '50th Filmfare Awards', 'Bollywood - Indiens klingendes Kino', '48th Filmfare Awards', 'Bollywood Remixed - Das indische Kino erobert den Westen', 'Tinseltown TV', 'Larger Than Life', '48th Manikchand Filmfare Awards 2002', \"Sabrina's Bollywood\", 'Bollywood for Beginners', 'Bollywood Bound', 'Richard & Judy', 'Jeena Isi Ka Naam Hai', 'Hot Wax', 'The Big Breakfast', 'Bollywood im Alpenrausch', '1st IIFA Awards (2000)', 'Sar Ankhon Par', 'Achanak', 'Rendevouz with Simi Garewal', 'Pehla Nasha', 'Rajani', 'Umang Tarang', '70 Jahre Berlinale', 'Arijit Singh & Harshdeep Kaur: Zaalima', 'Golmaal Again', 'Shreya Ghoshal & Arijit Singh: Manwa Laage', 'Chinmayi Sripada & Gopi Sundar: Titli', '101 Sexiest Celebrity Bodies']\n"
          ]
        }
      ]
    }
  ]
}